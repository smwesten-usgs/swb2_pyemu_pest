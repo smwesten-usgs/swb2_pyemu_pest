{
 "cells": [
  {
   "cell_type": "markdown",
   "metadata": {},
   "source": [
    "### Admin & Organize Folders\n",
    "First some admin. Load the dependencies and organize model folders. "
   ]
  },
  {
   "cell_type": "code",
   "execution_count": 1,
   "metadata": {},
   "outputs": [],
   "source": [
    "import sys\n",
    "import os\n",
    "import shutil\n",
    "import platform\n",
    "import warnings\n",
    "warnings.filterwarnings(\"ignore\")\n",
    "warnings.filterwarnings(\"ignore\", category=DeprecationWarning) \n",
    "import pandas as pd\n",
    "import numpy as np\n",
    "import matplotlib.pyplot as plt;\n",
    "import rasterio\n",
    "\n",
    "# for this course we use locally stored version of pyemu and flopy to avoid version conflicts\n",
    "import pyemu\n",
    "# herebedragons.py contains a series of utility functions that help us manage the tutorial repository\n",
    "sys.path.insert(0,\"..\")"
   ]
  },
  {
   "cell_type": "markdown",
   "metadata": {},
   "source": [
    "Now we need just a tiny bit of info about the spatial discretization of the model - this is needed to work out separation distances between parameters to build a geostatistical prior covariance matrix later.\n",
    "\n",
    "Here we will load the flopy sim and model instance just to help us define some quantities later - flopy is ***not required*** to use the `PstFrom` class. ***Neither is MODFLOW***. However, at the time of writing, support for `SpatialReference` to spatially locate parameters is limited to structured grid models.\n",
    "\n",
    "Load the simulation. Run it once to make sure it works and to ***make sure that model output files are in the folder***. "
   ]
  },
  {
   "cell_type": "code",
   "execution_count": 2,
   "metadata": {},
   "outputs": [
    {
     "data": {
      "text/plain": [
       "'model_copy'"
      ]
     },
     "execution_count": 2,
     "metadata": {},
     "output_type": "execute_result"
    }
   ],
   "source": [
    "# folder containing original model files\n",
    "org_d = os.path.join('model_master')\n",
    "\n",
    "# a dir to hold a copy of the original model files\n",
    "tmp_d = os.path.join('model_copy')\n",
    "\n",
    "if os.path.exists(tmp_d):\n",
    "    shutil.rmtree(tmp_d)\n",
    "shutil.copytree(org_d,tmp_d)"
   ]
  },
  {
   "cell_type": "code",
   "execution_count": 3,
   "metadata": {},
   "outputs": [],
   "source": [
    "# run SWB in the temporary ('model_copy') directory; run post-processor script(s) to generate model observations\n",
    "pyemu.os_utils.run(f\"swb2 swb2__control_file.ctl\", cwd=tmp_d)\n",
    "pyemu.os_utils.run(f\"python calculate_aet_zonal_stats.py\", cwd=tmp_d)"
   ]
  },
  {
   "cell_type": "markdown",
   "metadata": {},
   "source": [
    "### Spatial Reference\n",
    "Now we can instantiate a `SpatialReference`. This will later be passed to `PstFrom` to assist with spatially locating parameters (e.g. pilot points and/or cell-by-cell parameters). SWB is not a code that is supported by FloPy, so we have to roll our own `SpatialReference` based on the SWB2 control file statements."
   ]
  },
  {
   "cell_type": "code",
   "execution_count": 4,
   "metadata": {},
   "outputs": [],
   "source": [
    "# SWB model spatial information:\n",
    "# GRID 620 688 -125045.0 2246285.0 1000.0\n",
    "# BASE_PROJECTION_DEFINITION +proj=aea +lat_1=29.5 +lat_2=45.5 +lat_0=23.0 +lon_0=-96 +x_0=0 +y_0=0 +ellps=GRS80 +datum=NAD83 +towgs84=0,0,0,0,0,0,0 +units=m +no_defs\n",
    "\n",
    "sr = pyemu.helpers.SpatialReference(delr=np.full(620,1000),\n",
    "                                    delc=np.full(688,1000),\n",
    "                                    lenuni=2,                # this is a FloPy data definition; means that units are in meter, I think?)\n",
    "                                    xll=-125045,\n",
    "                                    yll=2246285,\n",
    "                                    rotation=0.0,\n",
    "                                    proj4_str='+proj=aea +lat_1=29.5 +lat_2=45.5 +lat_0=23.0 +lon_0=-96 +x_0=0 +y_0=0 +ellps=GRS80 +datum=NAD83 +towgs84=0,0,0,0,0,0,0 +units=m +no_defs',\n",
    "                                    length_multiplier=1.0\n",
    "                                    )"
   ]
  },
  {
   "cell_type": "markdown",
   "metadata": {},
   "source": [
    "### Instantiate PstFrom"
   ]
  },
  {
   "cell_type": "code",
   "execution_count": 5,
   "metadata": {},
   "outputs": [
    {
     "name": "stdout",
     "output_type": "stream",
     "text": [
      "2024-09-20 12:10:18.471843 starting: opening PstFrom.log for logging\n",
      "2024-09-20 12:10:18.471843 starting PstFrom process\n",
      "2024-09-20 12:10:18.491059 starting: setting up dirs\n",
      "2024-09-20 12:10:18.492060 starting: removing existing new_d 'model_template'\n",
      "2024-09-20 12:10:18.620970 finished: removing existing new_d 'model_template' took: 0:00:00.128910\n",
      "2024-09-20 12:10:18.621554 starting: copying original_d 'model_copy' to new_d 'model_template'\n",
      "2024-09-20 12:10:19.404860 finished: copying original_d 'model_copy' to new_d 'model_template' took: 0:00:00.783306\n",
      "2024-09-20 12:10:19.404860 finished: setting up dirs took: 0:00:00.913801\n"
     ]
    }
   ],
   "source": [
    "# specify a template directory (i.e. the PstFrom working folder)\n",
    "template_ws = os.path.join(\"model_template\")\n",
    "start_datetime=\"1-1-2015\"\n",
    "# instantiate PstFrom\n",
    "pf = pyemu.utils.PstFrom(original_d=tmp_d, # where the model is stored\n",
    "                            new_d=template_ws, # the PEST template folder\n",
    "                            remove_existing=True, # ensures a clean start\n",
    "                            longnames=True, # set False if using PEST/PEST_HP\n",
    "                            spatial_reference=sr, #the spatial reference we generated earlier\n",
    "                            zero_based=False, # does the MODEL use zero based indices? For example, MODFLOW does NOT\n",
    "                            #start_datetime=start_datetime, # required when specifying temporal correlation between parameters\n",
    "                            echo=True) # to stop PstFrom from writting lots of infromation to the notebook; experiment by setting it as True to see the difference; usefull for troubleshooting"
   ]
  },
  {
   "cell_type": "code",
   "execution_count": 6,
   "metadata": {},
   "outputs": [
    {
     "data": {
      "text/plain": [
       "['Active_and_inactive_gridcells.asc',\n",
       " 'actual_et__2016-01-01_to_2018-12-31__688_by_620.nc',\n",
       " 'Available_water_content__as_read_in_inches_per_foot.asc',\n",
       " 'AWS_grid_MN__1000m.asc',\n",
       " 'AWS_grid_MN__1000m.prj',\n",
       " 'calculate_aet_zonal_stats.py',\n",
       " 'Fraction_canopy_cover__as_read_in_unitless.asc',\n",
       " 'Fraction_pervious_surface__as_read_in_unitless.asc',\n",
       " 'gross_precipitation__2016-01-01_to_2018-12-31__688_by_620.nc',\n",
       " 'HSG_grid_MN__1000m.asc',\n",
       " 'HSG_grid_MN__1000m.prj',\n",
       " 'Hydrologic_soil_groups__as_read_into_SWB.asc',\n",
       " 'interception__2016-01-01_to_2018-12-31__688_by_620.nc',\n",
       " 'Irrigation_mask__as_read_into_SWB.asc',\n",
       " 'irrigation__2016-01-01_to_2018-12-31__688_by_620.nc',\n",
       " 'IRR_lookup_MN_v3.txt',\n",
       " 'Landuse_land_cover__as_read_into_SWB.asc',\n",
       " 'Latitude__calculated.asc',\n",
       " 'Longitude__calculated.asc',\n",
       " 'LU_lookup_MN_v3.txt',\n",
       " 'Maximum_rooting_depth__as_assembled_from_table__2016-01-01.asc',\n",
       " 'Minnesota_PRISM_daily_weather__US-Ro6__col_358__row_519__x_232693__y_2415326.tsv',\n",
       " 'mult',\n",
       " 'net_infiltration__2016-01-01_to_2018-12-31__688_by_620.nc',\n",
       " 'NLCD1992__1000m.asc',\n",
       " 'NLCD1992__1000m.prj',\n",
       " 'observation_watersheds_zones_1000m.asc',\n",
       " 'observation_watersheds_zones_1000m.prj',\n",
       " 'org',\n",
       " 'rainfall__2016-01-01_to_2018-12-31__688_by_620.nc',\n",
       " 'reference_ET0__2016-01-01_to_2018-12-31__688_by_620.nc',\n",
       " 'rejected_net_infiltration__2016-01-01_to_2018-12-31__688_by_620.nc',\n",
       " 'runoff_outside__2016-01-01_to_2018-12-31__688_by_620.nc',\n",
       " 'runoff__2016-01-01_to_2018-12-31__688_by_620.nc',\n",
       " 'runon__2016-01-01_to_2018-12-31__688_by_620.nc',\n",
       " 'simulated_actual_et.csv',\n",
       " 'snowfall__2016-01-01_to_2018-12-31__688_by_620.nc',\n",
       " 'snowmelt__2016-01-01_to_2018-12-31__688_by_620.nc',\n",
       " 'snow_storage__2016-01-01_to_2018-12-31__688_by_620.nc',\n",
       " 'Soil_Storage_Maximum__as_calculated_inches__2016-01-01.asc',\n",
       " 'SWB2_variable_values__US-Ro6__col_358__row_519__x_232693__y_2415326.csv',\n",
       " 'swb2__control_file.ctl',\n",
       " 'SWB_LOGFILE__20240920_120422.md',\n",
       " 'SWB_LOGFILE__20240920_120422_DEBUG.md',\n",
       " 'tmax__2016-01-01_to_2018-12-31__688_by_620.nc',\n",
       " 'tmin__2016-01-01_to_2018-12-31__688_by_620.nc']"
      ]
     },
     "execution_count": 6,
     "metadata": {},
     "output_type": "execute_result"
    }
   ],
   "source": [
    "os.listdir(template_ws)"
   ]
  },
  {
   "cell_type": "markdown",
   "metadata": {},
   "source": [
    "### Observations\n",
    "\n",
    "We now have a `PstFrom` instance assigned to the variable `pf`. For now it is only an empty container to which we can start adding \"observations\", \"parameters\" and other bits and bobs.\n",
    "\n",
    "Let's start with observations because they are easier."
   ]
  },
  {
   "cell_type": "markdown",
   "metadata": {},
   "source": [
    "Let's start with the 'simulated_actual_et.csv' file. First load it as a DataFrame to take a look:"
   ]
  },
  {
   "cell_type": "code",
   "execution_count": 7,
   "metadata": {},
   "outputs": [
    {
     "data": {
      "text/html": [
       "<div>\n",
       "<style scoped>\n",
       "    .dataframe tbody tr th:only-of-type {\n",
       "        vertical-align: middle;\n",
       "    }\n",
       "\n",
       "    .dataframe tbody tr th {\n",
       "        vertical-align: top;\n",
       "    }\n",
       "\n",
       "    .dataframe thead th {\n",
       "        text-align: right;\n",
       "    }\n",
       "</style>\n",
       "<table border=\"1\" class=\"dataframe\">\n",
       "  <thead>\n",
       "    <tr style=\"text-align: right;\">\n",
       "      <th></th>\n",
       "      <th>zone</th>\n",
       "      <th>mean</th>\n",
       "      <th>max</th>\n",
       "      <th>min</th>\n",
       "      <th>sum</th>\n",
       "      <th>std</th>\n",
       "      <th>var</th>\n",
       "      <th>count</th>\n",
       "      <th>month</th>\n",
       "      <th>year</th>\n",
       "      <th>date</th>\n",
       "      <th>season</th>\n",
       "    </tr>\n",
       "  </thead>\n",
       "  <tbody>\n",
       "    <tr>\n",
       "      <th>1</th>\n",
       "      <td>0</td>\n",
       "      <td>0.811727</td>\n",
       "      <td>0.884853</td>\n",
       "      <td>0.000000</td>\n",
       "      <td>211.049072</td>\n",
       "      <td>0.201232</td>\n",
       "      <td>0.040494</td>\n",
       "      <td>260.0</td>\n",
       "      <td>12</td>\n",
       "      <td>2015</td>\n",
       "      <td>2015-12-01</td>\n",
       "      <td>DJF</td>\n",
       "    </tr>\n",
       "    <tr>\n",
       "      <th>2</th>\n",
       "      <td>1</td>\n",
       "      <td>0.872494</td>\n",
       "      <td>0.923305</td>\n",
       "      <td>0.000000</td>\n",
       "      <td>260.875549</td>\n",
       "      <td>0.135521</td>\n",
       "      <td>0.018366</td>\n",
       "      <td>299.0</td>\n",
       "      <td>12</td>\n",
       "      <td>2015</td>\n",
       "      <td>2015-12-01</td>\n",
       "      <td>DJF</td>\n",
       "    </tr>\n",
       "    <tr>\n",
       "      <th>3</th>\n",
       "      <td>2</td>\n",
       "      <td>0.856708</td>\n",
       "      <td>0.901139</td>\n",
       "      <td>0.000000</td>\n",
       "      <td>166.201416</td>\n",
       "      <td>0.153849</td>\n",
       "      <td>0.023670</td>\n",
       "      <td>194.0</td>\n",
       "      <td>12</td>\n",
       "      <td>2015</td>\n",
       "      <td>2015-12-01</td>\n",
       "      <td>DJF</td>\n",
       "    </tr>\n",
       "    <tr>\n",
       "      <th>4</th>\n",
       "      <td>3</td>\n",
       "      <td>0.888721</td>\n",
       "      <td>0.899706</td>\n",
       "      <td>0.880840</td>\n",
       "      <td>63.099197</td>\n",
       "      <td>0.004137</td>\n",
       "      <td>0.000017</td>\n",
       "      <td>71.0</td>\n",
       "      <td>12</td>\n",
       "      <td>2015</td>\n",
       "      <td>2015-12-01</td>\n",
       "      <td>DJF</td>\n",
       "    </tr>\n",
       "    <tr>\n",
       "      <th>5</th>\n",
       "      <td>4</td>\n",
       "      <td>0.891662</td>\n",
       "      <td>0.909581</td>\n",
       "      <td>0.852443</td>\n",
       "      <td>185.465668</td>\n",
       "      <td>0.007128</td>\n",
       "      <td>0.000051</td>\n",
       "      <td>208.0</td>\n",
       "      <td>12</td>\n",
       "      <td>2015</td>\n",
       "      <td>2015-12-01</td>\n",
       "      <td>DJF</td>\n",
       "    </tr>\n",
       "    <tr>\n",
       "      <th>...</th>\n",
       "      <td>...</td>\n",
       "      <td>...</td>\n",
       "      <td>...</td>\n",
       "      <td>...</td>\n",
       "      <td>...</td>\n",
       "      <td>...</td>\n",
       "      <td>...</td>\n",
       "      <td>...</td>\n",
       "      <td>...</td>\n",
       "      <td>...</td>\n",
       "      <td>...</td>\n",
       "      <td>...</td>\n",
       "    </tr>\n",
       "    <tr>\n",
       "      <th>67</th>\n",
       "      <td>66</td>\n",
       "      <td>0.393418</td>\n",
       "      <td>0.397531</td>\n",
       "      <td>0.391730</td>\n",
       "      <td>23.211649</td>\n",
       "      <td>0.001478</td>\n",
       "      <td>0.000002</td>\n",
       "      <td>59.0</td>\n",
       "      <td>12</td>\n",
       "      <td>2018</td>\n",
       "      <td>2018-12-01</td>\n",
       "      <td>DJF</td>\n",
       "    </tr>\n",
       "    <tr>\n",
       "      <th>68</th>\n",
       "      <td>67</td>\n",
       "      <td>0.230841</td>\n",
       "      <td>0.380373</td>\n",
       "      <td>0.000000</td>\n",
       "      <td>349.723633</td>\n",
       "      <td>0.179824</td>\n",
       "      <td>0.032337</td>\n",
       "      <td>1515.0</td>\n",
       "      <td>12</td>\n",
       "      <td>2018</td>\n",
       "      <td>2018-12-01</td>\n",
       "      <td>DJF</td>\n",
       "    </tr>\n",
       "    <tr>\n",
       "      <th>69</th>\n",
       "      <td>68</td>\n",
       "      <td>0.397200</td>\n",
       "      <td>0.409473</td>\n",
       "      <td>0.000000</td>\n",
       "      <td>193.039246</td>\n",
       "      <td>0.026048</td>\n",
       "      <td>0.000678</td>\n",
       "      <td>486.0</td>\n",
       "      <td>12</td>\n",
       "      <td>2018</td>\n",
       "      <td>2018-12-01</td>\n",
       "      <td>DJF</td>\n",
       "    </tr>\n",
       "    <tr>\n",
       "      <th>70</th>\n",
       "      <td>69</td>\n",
       "      <td>0.407248</td>\n",
       "      <td>0.413177</td>\n",
       "      <td>0.395302</td>\n",
       "      <td>89.187332</td>\n",
       "      <td>0.003588</td>\n",
       "      <td>0.000013</td>\n",
       "      <td>219.0</td>\n",
       "      <td>12</td>\n",
       "      <td>2018</td>\n",
       "      <td>2018-12-01</td>\n",
       "      <td>DJF</td>\n",
       "    </tr>\n",
       "    <tr>\n",
       "      <th>71</th>\n",
       "      <td>70</td>\n",
       "      <td>0.393788</td>\n",
       "      <td>0.399898</td>\n",
       "      <td>0.375640</td>\n",
       "      <td>71.669449</td>\n",
       "      <td>0.003964</td>\n",
       "      <td>0.000016</td>\n",
       "      <td>182.0</td>\n",
       "      <td>12</td>\n",
       "      <td>2018</td>\n",
       "      <td>2018-12-01</td>\n",
       "      <td>DJF</td>\n",
       "    </tr>\n",
       "  </tbody>\n",
       "</table>\n",
       "<p>923 rows × 12 columns</p>\n",
       "</div>"
      ],
      "text/plain": [
       "    zone      mean       max       min         sum       std       var  \\\n",
       "1      0  0.811727  0.884853  0.000000  211.049072  0.201232  0.040494   \n",
       "2      1  0.872494  0.923305  0.000000  260.875549  0.135521  0.018366   \n",
       "3      2  0.856708  0.901139  0.000000  166.201416  0.153849  0.023670   \n",
       "4      3  0.888721  0.899706  0.880840   63.099197  0.004137  0.000017   \n",
       "5      4  0.891662  0.909581  0.852443  185.465668  0.007128  0.000051   \n",
       "..   ...       ...       ...       ...         ...       ...       ...   \n",
       "67    66  0.393418  0.397531  0.391730   23.211649  0.001478  0.000002   \n",
       "68    67  0.230841  0.380373  0.000000  349.723633  0.179824  0.032337   \n",
       "69    68  0.397200  0.409473  0.000000  193.039246  0.026048  0.000678   \n",
       "70    69  0.407248  0.413177  0.395302   89.187332  0.003588  0.000013   \n",
       "71    70  0.393788  0.399898  0.375640   71.669449  0.003964  0.000016   \n",
       "\n",
       "     count  month  year        date season  \n",
       "1    260.0     12  2015  2015-12-01    DJF  \n",
       "2    299.0     12  2015  2015-12-01    DJF  \n",
       "3    194.0     12  2015  2015-12-01    DJF  \n",
       "4     71.0     12  2015  2015-12-01    DJF  \n",
       "5    208.0     12  2015  2015-12-01    DJF  \n",
       "..     ...    ...   ...         ...    ...  \n",
       "67    59.0     12  2018  2018-12-01    DJF  \n",
       "68  1515.0     12  2018  2018-12-01    DJF  \n",
       "69   486.0     12  2018  2018-12-01    DJF  \n",
       "70   219.0     12  2018  2018-12-01    DJF  \n",
       "71   182.0     12  2018  2018-12-01    DJF  \n",
       "\n",
       "[923 rows x 12 columns]"
      ]
     },
     "execution_count": 7,
     "metadata": {},
     "output_type": "execute_result"
    }
   ],
   "source": [
    "df = pd.read_csv(os.path.join(template_ws,\"simulated_actual_et.csv\"),index_col=0)\n",
    "df"
   ]
  },
  {
   "cell_type": "markdown",
   "metadata": {},
   "source": [
    "As you can see, there are many columns, one for each observation site.\n",
    "\n",
    "The values in the *.csv* file were generated by running the model. (***IMPORTANT!***) _However, `PstFrom` assumes that values in this file are the *target* observation values, and they will be used to populate the PEST(++) dataset._  This lets the user quickly verify that the `PstFrom` process reproduces the same model output files - an important thing to test!\n",
    "\n",
    "**You can and should change the observation values later on for the quantities that correspond to actual observation data.**  This is the standard workflow when using `PstFrom` because it allows users to separate the PEST interface setup from the always-important process of setting observation values and weights. We address this part of the workflow in a separate tutorial."
   ]
  },
  {
   "cell_type": "markdown",
   "metadata": {},
   "source": [
    "#### Adding Observations\n",
    "\n",
    "First, we will use the `PstFrom.add_observations()` method to add observations to our `pf` object. This method can use ***list-type*** files, where the data are organized in column/tabular format with one or more index columns and one or more data columns.  This method can also use ***array-type*** files, where the data are organized in a 2-D array structure (we will see this one later...)\n",
    "\n",
    "We are going to tell `pf` which columns of this file contain observations. Values in these columns will be assigned to *observation values*.\n",
    "\n",
    "We can also inform it if there is an index column (or columns). Values in this column will be included in the *observation names*. \n",
    "\n",
    "We could also specify which rows to include as observations. But observations are free...so why not keep them all! \n",
    "\n",
    "Let's add observations from `heads.csv`. The first column of this file records the time at which the value is simulated. Let's use that as the index column (this becomes useful later on to post-process results). We want all other columns as observation values.\n"
   ]
  },
  {
   "cell_type": "code",
   "execution_count": 8,
   "metadata": {},
   "outputs": [
    {
     "name": "stdout",
     "output_type": "stream",
     "text": [
      "2024-09-20 12:10:19.461493 starting: adding observations from output file simulated_actual_et.csv\n",
      "2024-09-20 12:10:19.461493 starting: adding observations from tabular output file '['simulated_actual_et.csv']'\n",
      "2024-09-20 12:10:19.461493 starting: reading list-style file: model_template\\simulated_actual_et.csv\n",
      "2024-09-20 12:10:19.473334 finished: reading list-style file: model_template\\simulated_actual_et.csv took: 0:00:00.011841\n",
      "2024-09-20 12:10:19.488212 starting: building insfile for tabular output file simulated_actual_et.csv\n",
      "2024-09-20 12:10:19.488212 finished: building insfile for tabular output file simulated_actual_et.csv took: 0:00:00\n",
      "2024-09-20 12:10:19.488212 starting: adding observation from instruction file 'model_template\\simulated_actual_et.csv.ins'\n",
      "2024-09-20 12:10:19.538392 finished: adding observation from instruction file 'model_template\\simulated_actual_et.csv.ins' took: 0:00:00.050180\n",
      "2024-09-20 12:10:19.538392 finished: adding observations from tabular output file '['simulated_actual_et.csv']' took: 0:00:00.076899\n",
      "2024-09-20 12:10:19.538392 finished: adding observations from output file simulated_actual_et.csv took: 0:00:00.076899\n"
     ]
    }
   ],
   "source": [
    "aet_df = pf.add_observations(\"simulated_actual_et.csv\", # the model output file to read\n",
    "                            #insfile=\"heads.csv.ins\",    # optional, the instruction file name\n",
    "                            index_cols=[\"zone\",\"year\",\"season\"],           #column header to use as index; can also use column number (zero-based) instead of the header name\n",
    "                            use_cols=['mean'],           #names of columns that include observation values; can also use column number (zero-based) instead of the header name\n",
    "                            prefix=\"aet\") #prefix to all observation names; choose something logical and easy to find. We use it later on to select obsevrations"
   ]
  },
  {
   "cell_type": "markdown",
   "metadata": {},
   "source": [
    "Let's inspect what we just created. \n",
    "\n",
    "We can see that the `.add_observations()` method returned a dataframe with lots of useful info: \n",
    "\n",
    " - the observation names that were formed (see `obsnme` column); note that these include lots of useful metadata like the column name, index value and so on;\n",
    " - the values that were read from `heads.csv` (see `obsval` column); \n",
    " - some generic weights and group names; note that observations are grouped according to the column of the model output .csv. Alternatively, we could have specified a list of observation group names."
   ]
  },
  {
   "cell_type": "code",
   "execution_count": 9,
   "metadata": {},
   "outputs": [
    {
     "data": {
      "text/html": [
       "<div>\n",
       "<style scoped>\n",
       "    .dataframe tbody tr th:only-of-type {\n",
       "        vertical-align: middle;\n",
       "    }\n",
       "\n",
       "    .dataframe tbody tr th {\n",
       "        vertical-align: top;\n",
       "    }\n",
       "\n",
       "    .dataframe thead th {\n",
       "        text-align: right;\n",
       "    }\n",
       "</style>\n",
       "<table border=\"1\" class=\"dataframe\">\n",
       "  <thead>\n",
       "    <tr style=\"text-align: right;\">\n",
       "      <th></th>\n",
       "      <th>obsnme</th>\n",
       "      <th>obsval</th>\n",
       "      <th>weight</th>\n",
       "      <th>obgnme</th>\n",
       "    </tr>\n",
       "  </thead>\n",
       "  <tbody>\n",
       "    <tr>\n",
       "      <th>oname:aet_otype:lst_usecol:mean_zone:0_year:2015_season:djf</th>\n",
       "      <td>oname:aet_otype:lst_usecol:mean_zone:0_year:2015_season:djf</td>\n",
       "      <td>0.811727</td>\n",
       "      <td>1.0</td>\n",
       "      <td>oname:aet_otype:lst_usecol:mean</td>\n",
       "    </tr>\n",
       "    <tr>\n",
       "      <th>oname:aet_otype:lst_usecol:mean_zone:0_year:2016_season:djf</th>\n",
       "      <td>oname:aet_otype:lst_usecol:mean_zone:0_year:2016_season:djf</td>\n",
       "      <td>1.368604</td>\n",
       "      <td>1.0</td>\n",
       "      <td>oname:aet_otype:lst_usecol:mean</td>\n",
       "    </tr>\n",
       "    <tr>\n",
       "      <th>oname:aet_otype:lst_usecol:mean_zone:0_year:2016_season:jja</th>\n",
       "      <td>oname:aet_otype:lst_usecol:mean_zone:0_year:2016_season:jja</td>\n",
       "      <td>13.162418</td>\n",
       "      <td>1.0</td>\n",
       "      <td>oname:aet_otype:lst_usecol:mean</td>\n",
       "    </tr>\n",
       "    <tr>\n",
       "      <th>oname:aet_otype:lst_usecol:mean_zone:0_year:2016_season:mam</th>\n",
       "      <td>oname:aet_otype:lst_usecol:mean_zone:0_year:2016_season:mam</td>\n",
       "      <td>7.926081</td>\n",
       "      <td>1.0</td>\n",
       "      <td>oname:aet_otype:lst_usecol:mean</td>\n",
       "    </tr>\n",
       "    <tr>\n",
       "      <th>oname:aet_otype:lst_usecol:mean_zone:0_year:2016_season:son</th>\n",
       "      <td>oname:aet_otype:lst_usecol:mean_zone:0_year:2016_season:son</td>\n",
       "      <td>5.667744</td>\n",
       "      <td>1.0</td>\n",
       "      <td>oname:aet_otype:lst_usecol:mean</td>\n",
       "    </tr>\n",
       "  </tbody>\n",
       "</table>\n",
       "</div>"
      ],
      "text/plain": [
       "                                                                                                                  obsnme  \\\n",
       "oname:aet_otype:lst_usecol:mean_zone:0_year:2015_season:djf  oname:aet_otype:lst_usecol:mean_zone:0_year:2015_season:djf   \n",
       "oname:aet_otype:lst_usecol:mean_zone:0_year:2016_season:djf  oname:aet_otype:lst_usecol:mean_zone:0_year:2016_season:djf   \n",
       "oname:aet_otype:lst_usecol:mean_zone:0_year:2016_season:jja  oname:aet_otype:lst_usecol:mean_zone:0_year:2016_season:jja   \n",
       "oname:aet_otype:lst_usecol:mean_zone:0_year:2016_season:mam  oname:aet_otype:lst_usecol:mean_zone:0_year:2016_season:mam   \n",
       "oname:aet_otype:lst_usecol:mean_zone:0_year:2016_season:son  oname:aet_otype:lst_usecol:mean_zone:0_year:2016_season:son   \n",
       "\n",
       "                                                                obsval  \\\n",
       "oname:aet_otype:lst_usecol:mean_zone:0_year:2015_season:djf   0.811727   \n",
       "oname:aet_otype:lst_usecol:mean_zone:0_year:2016_season:djf   1.368604   \n",
       "oname:aet_otype:lst_usecol:mean_zone:0_year:2016_season:jja  13.162418   \n",
       "oname:aet_otype:lst_usecol:mean_zone:0_year:2016_season:mam   7.926081   \n",
       "oname:aet_otype:lst_usecol:mean_zone:0_year:2016_season:son   5.667744   \n",
       "\n",
       "                                                             weight  \\\n",
       "oname:aet_otype:lst_usecol:mean_zone:0_year:2015_season:djf     1.0   \n",
       "oname:aet_otype:lst_usecol:mean_zone:0_year:2016_season:djf     1.0   \n",
       "oname:aet_otype:lst_usecol:mean_zone:0_year:2016_season:jja     1.0   \n",
       "oname:aet_otype:lst_usecol:mean_zone:0_year:2016_season:mam     1.0   \n",
       "oname:aet_otype:lst_usecol:mean_zone:0_year:2016_season:son     1.0   \n",
       "\n",
       "                                                                                      obgnme  \n",
       "oname:aet_otype:lst_usecol:mean_zone:0_year:2015_season:djf  oname:aet_otype:lst_usecol:mean  \n",
       "oname:aet_otype:lst_usecol:mean_zone:0_year:2016_season:djf  oname:aet_otype:lst_usecol:mean  \n",
       "oname:aet_otype:lst_usecol:mean_zone:0_year:2016_season:jja  oname:aet_otype:lst_usecol:mean  \n",
       "oname:aet_otype:lst_usecol:mean_zone:0_year:2016_season:mam  oname:aet_otype:lst_usecol:mean  \n",
       "oname:aet_otype:lst_usecol:mean_zone:0_year:2016_season:son  oname:aet_otype:lst_usecol:mean  "
      ]
     },
     "execution_count": 9,
     "metadata": {},
     "output_type": "execute_result"
    }
   ],
   "source": [
    "aet_df.head()"
   ]
  },
  {
   "cell_type": "markdown",
   "metadata": {},
   "source": [
    "At this point, no PEST *control file* has been created, we have simply prepared to add these observations to the control file later. Everything is still only stored in memory. However, a PEST *instruction* file has been created in the template folder (`template_ws`):"
   ]
  },
  {
   "cell_type": "code",
   "execution_count": 10,
   "metadata": {},
   "outputs": [
    {
     "data": {
      "text/plain": [
       "['simulated_actual_et.csv.ins']"
      ]
     },
     "execution_count": 10,
     "metadata": {},
     "output_type": "execute_result"
    }
   ],
   "source": [
    "[f for f in os.listdir(template_ws) if f.endswith(\".ins\")]"
   ]
  },
  {
   "cell_type": "markdown",
   "metadata": {},
   "source": [
    "### Parameters\n",
    "\n",
    "The `PstFrom.add_parameters()` method reads model input files and adds parameters to the PEST(++) dataset. Parameterization can be configured in several ways. \n",
    "\n",
    " - model input files can be in array or list format;\n",
    " - parameters can be setup as different \"types\". Each value in model input files can (1) each be a separate parameter (\"grid\" scale parameters), (2) be grouped into \"zones\" or (3) all be treated as a single parameter (\"constant\" type). Alternatively, (4) parameters can be assigned to pilot points, from which individual parameter values are subsequently interpolated. `PstFrom` adds the relevant pre-processing steps to assign parameter values directly into the \"model run\" script.\n",
    " - parameter values can be setup as \"direct\", \"multiplier\" or \"addend\". This means the \"parameter value\" which PEST(++) sees can be (1) the same value the model sees, (2) a multiplier on the value in the existing/original model input file, or (3) a value which is added to the value in the existing/original model input file. This is very nifty and allows for some pretty advanced parameterization schemes by allowing mixtures of different types of parameters. `PstFrom` is designed to preferentially use parameters setup as multipliers (that is the default parameter type). This lets us preserve the existing model inputs and treat them as the mean of the prior parameter distribution. Once again, relevant pre-processing scripts are automatically added to the \"model run\" script (discussed later) so that the multiplicative and additive parameterization process is not something the user has to worry about.\n",
    "\n",
    "\n",
    "#### Geostatistical Structures\n",
    "\n",
    "Parameter correlation plays a role in (1) regularization when giving preference to the emergence of patterns of spatial heterogeneity and (2) when specifying the prior parameter probability distribution (which is what regularization is enforcing!). Since we are all sophisticated and recognize the importance of expressing spatial and temporal uncertainty (e.g. heterogeneity) in the model inputs (and the corresponding spatial correlation in those uncertain inputs), let's use geostatistics to express uncertainty. To do that we need to define \"geostatistical structures\". "
   ]
  },
  {
   "cell_type": "code",
   "execution_count": 11,
   "metadata": {},
   "outputs": [
    {
     "data": {
      "image/png": "[encoded data removed]",
      "text/plain": [
       "<Figure size 640x480 with 1 Axes>"
      ]
     },
     "metadata": {},
     "output_type": "display_data"
    }
   ],
   "source": [
    "# exponential variogram for spatially varying parameters\n",
    "v_grid = pyemu.geostats.ExpVario(contribution=1.0, #sill\n",
    "                                    a=2000, # range of correlation; length units of the model. In our case 'meters'\n",
    "                                    anisotropy=1.0, #name says it all\n",
    "                                    bearing=0.0 #angle in degrees East of North corresponding to anisotropy ellipse\n",
    "                                    )\n",
    "\n",
    "# geostatistical structure for spatially varying parameters\n",
    "grid_gs = pyemu.geostats.GeoStruct(variograms=v_grid, transform='log') \n",
    "\n",
    "# plot the gs if you like:\n",
    "ax = grid_gs.plot()"
   ]
  },
  {
   "cell_type": "code",
   "execution_count": 12,
   "metadata": {},
   "outputs": [
    {
     "data": {
      "image/png": "[encoded data removed]",
      "text/plain": [
       "<Figure size 640x480 with 1 Axes>"
      ]
     },
     "metadata": {},
     "output_type": "display_data"
    }
   ],
   "source": [
    "# exponential variogram for spatially varying parameters\n",
    "v_pp = pyemu.geostats.ExpVario(contribution=1.0, #sill\n",
    "                                    a=15000, # range of correlation; length units of the model. In our case 'meters'\n",
    "                                    anisotropy=1.0, #name says it all\n",
    "                                    bearing=0.0 #angle in degrees East of North corresponding to anisotropy ellipse\n",
    "                                    )\n",
    "\n",
    "# geostatistical structure for spatially varying parameters\n",
    "pp_gs = pyemu.geostats.GeoStruct(variograms=v_pp, transform='log') \n",
    "\n",
    "# plot the gs if you like:\n",
    "_ = pp_gs.plot()"
   ]
  },
  {
   "cell_type": "code",
   "execution_count": 13,
   "metadata": {},
   "outputs": [],
   "source": [
    "# exponential variogram for time varying parameters\n",
    "v_time = pyemu.geostats.ExpVario(contribution=1.0, #sill\n",
    "                                    a=60, # range of correlation; length time units (days)\n",
    "                                    anisotropy=1.0, #do not change for 1-D time\n",
    "                                    bearing=0.0 #do not change for 1-D time\n",
    "                                    )\n",
    "\n",
    "# geostatistical structure for time varying parameters\n",
    "temporal_gs = pyemu.geostats.GeoStruct(variograms=v_time, transform='none') "
   ]
  },
  {
   "cell_type": "markdown",
   "metadata": {},
   "source": [
    "#### Add Parameters\n",
    "\n",
    "Let's start by adding parameters of hydraulic properties that vary in space (but not time) and which are housed in array-type files (e.g. Kh, Kv, Ss, Sy). We will start by demonstrating step-by-step for Kh.\n",
    "\n",
    "First, find all the external array files that contain Kh values. In our case, these are the files with \"npf_k_\" in the file name."
   ]
  },
  {
   "cell_type": "code",
   "execution_count": 14,
   "metadata": {},
   "outputs": [
    {
     "name": "stdout",
     "output_type": "stream",
     "text": [
      "['AWS_grid_MN__1000m.asc']\n"
     ]
    }
   ],
   "source": [
    "tag = \"AWS_\"\n",
    "files = [f for f in os.listdir(template_ws) if tag in f and f.endswith(\".asc\")]\n",
    "print(files)"
   ]
  },
  {
   "cell_type": "markdown",
   "metadata": {},
   "source": [
    "Let's setup multiple spatial scales of parameters for AWS. To do this we will use three of the parameter \"types\" described above. The coarse scale will be a `constant` single value for each array. The medium scale will `pilot points`. \n",
    "\n",
    "Each scale of parameters will work with the others as multipliers with the existing AWS arrays. (This all happens at runtime as part of the \"model run\" script.) Think of the scales as dials that PEST(++) can turn to improve the fit. The \"coarse\" scale is one big dial that allows PEST to move everything at once - that is, change the mean of the entire Kh array. The \"medium\" dials are few (but not too many) that allow PEST to adjust broad areas, but not making everything move. \n",
    "\n",
    "However, because we are working with parameter `multipliers`, we will need to specify two sets of parameter bounds: \n",
    " - `upper_bound` and `lower_bound` are the standard control file bounds (the bounds on the parameters that PEST sees), while\n",
    " - `ult_ubound` and `ult_lbound` are bounds that are applied at runtime to the resulting (multiplied out) model input array that MODFLOW reads. \n",
    " \n",
    "Since we are using sets of multipliers, it is important to make sure we keep the resulting model input arrays within the range of realistic values.\n",
    "\n",
    "#### Array Files\n",
    "\n",
    "We will first demonstrate step-by-step for `AWS_grid_MN__1000m.asc`\n",
    "We start by getting the `Active_and_inactive_gridcells.asc` array. As our model has inactive cells, this helps us avoid adding unnecessary parameters. It is also required later when generating pilot points."
   ]
  },
  {
   "cell_type": "code",
   "execution_count": 15,
   "metadata": {},
   "outputs": [
    {
     "data": {
      "text/plain": [
       "<matplotlib.image.AxesImage at 0x2152cd02ed0>"
      ]
     },
     "execution_count": 15,
     "metadata": {},
     "output_type": "execute_result"
    },
    {
     "data": {
      "image/png": "[encoded data removed]",
      "text/plain": [
       "<Figure size 640x480 with 1 Axes>"
      ]
     },
     "metadata": {},
     "output_type": "display_data"
    }
   ],
   "source": [
    "# get the active and inactive gridcells.\n",
    "active_model_cells_obj = rasterio.open(pf.tpl_d / 'Active_and_inactive_gridcells.asc')\n",
    "active_model_cells = active_model_cells_obj.read(1)\n",
    "\n",
    "plt.imshow(active_model_cells)"
   ]
  },
  {
   "cell_type": "code",
   "execution_count": 16,
   "metadata": {},
   "outputs": [],
   "source": [
    "# f = 'AWS_grid_MN__1000m.asc'\n",
    "\n",
    "# # grid (fine) scale parameters\n",
    "# df_gr = pf.add_parameters(f,\n",
    "#                 mfile_skip=6,\n",
    "#                 transform='none',\n",
    "#                 zone_array=active_model_cells, #as we have inactive model cells, we can avoid assigning these as parameters\n",
    "#                 par_type=\"pilot-points\", #specify the type, these will be unique parameters for each cell\n",
    "#                 geostruct=grid_gs, # the gestatisical structure for spatial correlation \n",
    "#                 par_name_base=f.split('.')[1].replace(\"_\",\"\")+\"gr\", #specify a parameter name base that allows us to easily identify the filename and parameter type. \"_gr\" for \"grid\", and so forth.\n",
    "#                 pargp=f.split('.')[1].replace(\"_\",\"\")+\"gr\", #likewise for the parameter group name\n",
    "#                 lower_bound=0.2, upper_bound=5.0, #parameter lower and upper bound\n",
    "#                 ult_ubound=3.6, ult_lbound=0.01 # The ultimate bounds for multiplied model input values. Here we are stating that, after accounting for all multipliers, Kh cannot exceed these values. Very important with multipliers\n",
    "#                 )"
   ]
  },
  {
   "cell_type": "markdown",
   "metadata": {},
   "source": [
    "Remember!  no PEST control file has been made yet. `PstFrom` is simply preparing to make a control file later..."
   ]
  },
  {
   "cell_type": "markdown",
   "metadata": {},
   "source": [
    "Now, we add pilot point (medium scale) multiplier parameters to the same model input file. These multipliers are assigned to pilot points, which are subsequently interpolated to values in the array.\n",
    "\n",
    "You can add pilot points in two ways:\n",
    "\n",
    "1. `PstFrom` can generate them for you on a regular grid or \n",
    "2. you can supply `PstFrom` with existing pilot point location information in the form of a dataframe or a point-coverage shapefile. \n",
    "\n",
    "When you change `par_type` to \"pilotpoints\", by default, a regular grid of pilot points is set up using a default `pp_space` value of 10 (which is every 10th row and column). You can change this spacing by passing an integer to `pp_space` (as demonstrated below). \n",
    "\n",
    "Alternatively you can specify a filename or dataframe with pilot point locations. If you supply `pp_space` as a `str` it is assumed to be a filename. The extension is the guide: \".csv\" for dataframe, \".shp\" for shapefile (point-type). Anything else and the file is assumed to be a pilot points file type. The dataframe (or .csv file) must have \"name\", \"x\", and \"y\" as columns - it can have more, but must have those. "
   ]
  },
  {
   "cell_type": "code",
   "execution_count": 29,
   "metadata": {},
   "outputs": [],
   "source": [
    "## ALERT Stupid code to strip header from Arc ASCII file\n",
    "\n",
    "line_no = 0\n",
    "\n",
    "aws_no_header = open(pf.tpl_d / 'AWS_grid_MN__1000m__NO_HEADER.txt', 'w+')\n",
    "\n",
    "with open(pf.tpl_d / 'AWS_grid_MN__1000m.asc', 'r') as file:\n",
    "    # Read and print the entire file line by line\n",
    "    for line in file:\n",
    "        line_no += 1\n",
    "        if line_no >  6: \n",
    "            aws_no_header.write(line)\n",
    "\n",
    "aws_no_header.close()"
   ]
  },
  {
   "cell_type": "code",
   "execution_count": 30,
   "metadata": {},
   "outputs": [
    {
     "name": "stdout",
     "output_type": "stream",
     "text": [
      "2024-09-20 12:24:46.896837 finished: adding pilotpoints type m style parameters for file(s) ['AWS_grid_MN__1000m__NO_HEADER.txt'] took: 0:06:19.984858\n",
      "2024-09-20 12:24:46.897031 finished: using geostruct:name:struct1,nugget:0.0,structures:\n",
      "name:var1,contribution:1.0,a:15000.0,anisotropy:1.0,bearing:0.0\n",
      " took: 0:06:19.984555\n",
      "2024-09-20 12:24:46.897031 starting: loading array model_template\\AWS_grid_MN__1000m__NO_HEADER.txt\n",
      "2024-09-20 12:24:46.996956 finished: loading array model_template\\AWS_grid_MN__1000m__NO_HEADER.txt took: 0:00:00.099925\n",
      "2024-09-20 12:24:46.996956 loaded array 'model_copy\\AWS_grid_MN__1000m__NO_HEADER.txt' of shape (688, 620)\n",
      "2024-09-20 12:24:47.148185 starting: writing array-style template file 'model_template\\txtpp_inst1_pilotpoints.csv.tpl'\n",
      "2024-09-20 12:24:47.148185 finished: setting up pilot point parameters took: 0:06:20.235032\n",
      "2024-09-20 12:24:47.148185 No spatial reference (containing cell spacing) passed.\n",
      "2024-09-20 12:24:47.148185 OK - using spatial reference in parent object.\n",
      "error importing shapefile, try pip install pyshp...No module named 'shapefile'\n",
      "2024-09-20 12:24:49.659185 3649 pilot point parameters created\n",
      "2024-09-20 12:24:49.659185 pilot point 'pargp':txtpp\n",
      "2024-09-20 12:24:49.659185 starting: setting up pilot point parameters\n",
      "2024-09-20 12:24:49.975509 starting: calculating factors for pargp=txtpp\n",
      "2024-09-20 12:24:49.975509 saving krige variance file:model_template\\txtpp_inst1pp.var.dat\n",
      "2024-09-20 12:24:49.975509 saving krige factors file:model_template\\txtpp_inst1pp.fac\n",
      "starting interp point loop for 371875 points\n",
      "starting 0\n",
      "starting 1\n",
      "starting 2\n",
      "starting 3\n",
      "starting 4\n",
      "starting 5\n",
      "starting 6\n",
      "starting 7\n",
      "starting 8\n",
      "starting 9\n",
      "took 392.268868 seconds\n",
      "2024-09-20 12:32:46.005337 finished: calculating factors for pargp=txtpp took: 0:07:56.029828\n",
      "2024-09-20 12:32:46.005337 starting: writing array-based template file 'model_template\\txtpp_inst1pp.dat.tpl'\n",
      "2024-09-20 12:32:46.005337 saving zone array model_template\\txtpp_inst1pp.dat.zone for tpl file model_template\\txtpp_inst1pp.dat.tpl\n",
      "2024-09-20 12:32:46.097816 starting: adding pilotpoints type m style parameters for file(s) ['AWS_grid_MN__1000m__NO_HEADER.txt']\n"
     ]
    }
   ],
   "source": [
    "f = 'AWS_grid_MN__1000m__NO_HEADER.txt'\n",
    "\n",
    "# pilot point (medium) scale parameters\n",
    "df_pp = pf.add_parameters(f,\n",
    "                    zone_array=active_model_cells,\n",
    "                    par_type=\"pilotpoints\",\n",
    "                    transform='log',\n",
    "                    geostruct=pp_gs,\n",
    "                    par_name_base=f.split('.')[1].replace(\"_\",\"\")+\"pp\",\n",
    "                    pargp=f.split('.')[1].replace(\"_\",\"\")+\"pp\",\n",
    "                    lower_bound=0.2,upper_bound=5.0,\n",
    "                    ult_ubound=3.6, ult_lbound=0.01,\n",
    "                    pp_space=10) # `PstFrom` will generate a unifrom grid of pilot points at specified spacing"
   ]
  },
  {
   "cell_type": "code",
   "execution_count": 31,
   "metadata": {},
   "outputs": [
    {
     "data": {
      "text/plain": [
       "<matplotlib.collections.PathCollection at 0x2153c29be90>"
      ]
     },
     "execution_count": 31,
     "metadata": {},
     "output_type": "execute_result"
    },
    {
     "data": {
      "image/png": "[encoded data removed]",
      "text/plain": [
       "<Figure size 400x600 with 1 Axes>"
      ]
     },
     "metadata": {},
     "output_type": "display_data"
    }
   ],
   "source": [
    "fig,ax = plt.subplots(1,1,figsize=(4,6))\n",
    "ax.set_aspect(\"equal\")\n",
    "ax.pcolormesh(sr.xcentergrid, sr.ycentergrid,active_model_cells)\n",
    "ax.scatter(df_pp.x,df_pp.y)"
   ]
  },
  {
   "cell_type": "markdown",
   "metadata": {},
   "source": [
    "Lastly, add the constant (coarse) parameter multiplier. This is a single multiplier value applied to all values in the array. In practice, including a single constant parameter for each property can be an important parameter to include since it conceptually represents uncertainty in the mean property value"
   ]
  },
  {
   "cell_type": "code",
   "execution_count": 32,
   "metadata": {},
   "outputs": [
    {
     "name": "stdout",
     "output_type": "stream",
     "text": [
      "2024-09-20 12:34:20.845552 transform was not passed, setting default tranform to 'log'\n",
      "2024-09-20 12:34:20.845552 starting: adding constant type m style parameters for file(s) ['AWS_grid_MN__1000m__NO_HEADER.txt']\n",
      "2024-09-20 12:34:20.845552 starting: using geostruct:name:struct1,nugget:0.0,structures:\n",
      "name:var1,contribution:1.0,a:2000.0,anisotropy:1.0,bearing:0.0\n",
      "\n",
      "2024-09-20 12:34:20.845552 starting: loading array model_template\\AWS_grid_MN__1000m__NO_HEADER.txt\n",
      "2024-09-20 12:34:20.958620 finished: loading array model_template\\AWS_grid_MN__1000m__NO_HEADER.txt took: 0:00:00.113068\n",
      "2024-09-20 12:34:20.958620 loaded array 'model_copy\\AWS_grid_MN__1000m__NO_HEADER.txt' of shape (688, 620)\n",
      "2024-09-20 12:34:21.113099 starting: writing array-style template file 'model_template\\txtcn_inst0_constant.csv.tpl'\n",
      "2024-09-20 12:34:21.113099 starting: writing template file model_template\\txtcn_inst0_constant.csv.tpl for ['txtcn_inst:0']\n",
      "2024-09-20 12:34:22.129521 finished: writing template file model_template\\txtcn_inst0_constant.csv.tpl for ['txtcn_inst:0'] took: 0:00:01.016422\n",
      "2024-09-20 12:34:22.129521 starting: writing array-based template file 'model_template\\txtcn_inst0_constant.csv.tpl'\n",
      "2024-09-20 12:34:22.129521 saving zone array model_template\\txtcn_inst0_constant.csv.zone for tpl file model_template\\txtcn_inst0_constant.csv.tpl\n",
      "2024-09-20 12:34:22.231306 finished: adding constant type m style parameters for file(s) ['AWS_grid_MN__1000m__NO_HEADER.txt'] took: 0:00:01.385754\n"
     ]
    }
   ],
   "source": [
    "# constant (coarse) scale parameters\n",
    "df_cst = pf.add_parameters(f,\n",
    "                    zone_array=active_model_cells,\n",
    "                    par_type=\"constant\",\n",
    "                    geostruct=grid_gs,\n",
    "                    par_name_base=f.split('.')[1].replace(\"_\",\"\")+\"cn\",\n",
    "                    pargp=f.split('.')[1].replace(\"_\",\"\")+\"cn\",\n",
    "                    lower_bound=0.2,upper_bound=5.0,\n",
    "                    ult_ubound=3.6, ult_lbound=0.01)"
   ]
  },
  {
   "cell_type": "markdown",
   "metadata": {},
   "source": [
    "Now we see two template files have been created:"
   ]
  },
  {
   "cell_type": "code",
   "execution_count": 33,
   "metadata": {},
   "outputs": [
    {
     "data": {
      "text/plain": [
       "['txtcn_inst0_constant.csv.tpl', 'txtpp_inst1pp.dat.tpl']"
      ]
     },
     "execution_count": 33,
     "metadata": {},
     "output_type": "execute_result"
    }
   ],
   "source": [
    "[f for f in os.listdir(template_ws) if f.endswith(\".tpl\")]"
   ]
  },
  {
   "cell_type": "markdown",
   "metadata": {},
   "source": [
    "Feel free to navigate to the `template_ws` and inspect these files."
   ]
  },
  {
   "cell_type": "markdown",
   "metadata": {},
   "source": [
    "### List Files\n",
    "\n",
    "Adding parameters from list-type files follows similar principles. As with observation files, they must be tabular. Certain columns are specified as index columns and are used to populate parameter names, as well as provide the parameters' spatial location. Other columns are specified as containing parameter values. \n",
    "\n",
    "Parameters can be `grid` or `constant`. As before, values can be assigned `directly`, as `multipliers` or as `additives`.\n",
    "\n",
    "We will demonstrate for the boundary-condition input files. \n",
    "\n",
    "Starting off with GHBs. Let's inspect the folder. As you can see, there is a single input file (here we assume GHB parameters do not vary over time)."
   ]
  },
  {
   "cell_type": "code",
   "execution_count": null,
   "metadata": {},
   "outputs": [],
   "source": [
    "tag = \"ghb_stress_period_data\"\n",
    "files = [f for f in os.listdir(template_ws) if tag in f.lower() and f.endswith(\".txt\")]\n",
    "print(files)"
   ]
  },
  {
   "cell_type": "markdown",
   "metadata": {},
   "source": [
    "Since these boundaries are likely to be very influential, we want to include a robust representation of their uncertainty - both head and conductance and at multiple scales.  \n",
    "\n",
    "Let's parameterize both GHB conductance and head:\n",
    "\n",
    " - For conductance, we shall use two scales of `multiplier` parameters (`constant` and `grid`).\n",
    "\n",
    " - For heads, multipliers are not ideal. Instead we will use `additive` parameters. Again, with a coarse and fine scale.\n",
    "\n",
    " **ATTENTION!** \n",
    " \n",
    " Additive parameters by default get assigned an initial parameter value of zero. This can be problematic later on when computing the derivatives. Be sure to either apply a parameter offset, or use \"absolute\" increment types in the parameter group section (we will implement the latter option further on in the current tutorial.)"
   ]
  },
  {
   "cell_type": "code",
   "execution_count": null,
   "metadata": {},
   "outputs": [],
   "source": [
    "tag = \"ghb_stress_period_data\"\n",
    "files = [f for f in os.listdir(template_ws) if tag in f.lower() and f.endswith(\".txt\")]\n",
    "\n",
    "for f in files:\n",
    "    # constant and grid scale multiplier conductance parameters\n",
    "    name = 'ghbcond'\n",
    "    pf.add_parameters(f,\n",
    "                        par_type=\"grid\",\n",
    "                        geostruct=grid_gs,\n",
    "                        par_name_base=name+\"gr\",\n",
    "                        pargp=name+\"gr\",\n",
    "                        index_cols=[0,1,2], #column containing lay,row,col\n",
    "                        use_cols=[4], #column containing conductance values\n",
    "                        lower_bound=0.1,upper_bound=10.0)\n",
    "    pf.add_parameters(f,\n",
    "                        par_type=\"constant\",\n",
    "                        geostruct=grid_gs,\n",
    "                        par_name_base=name+\"cn\",\n",
    "                        pargp=name+\"cn\",\n",
    "                        index_cols=[0,1,2],\n",
    "                        use_cols=[4],  \n",
    "                        lower_bound=0.1,upper_bound=10.0,\n",
    "                        ult_lbound=0.01, ult_ubound=100) #absolute limits\n",
    "\n",
    "    # constant and grid scale additive head parameters\n",
    "    name = 'ghbhead'\n",
    "    pf.add_parameters(f,\n",
    "                        par_type=\"grid\",\n",
    "                        geostruct=grid_gs,\n",
    "                        par_name_base=name+\"gr\",\n",
    "                        pargp=name+\"gr\",\n",
    "                        index_cols=[0,1,2],\n",
    "                        use_cols=[3],   # column containing head values\n",
    "                        lower_bound=-2.0,upper_bound=2.0,\n",
    "                        par_style=\"a\", # specify additive parameter\n",
    "                        transform=\"none\", # specify not log-transform\n",
    "                        ult_lbound=32.5, ult_ubound=42) #absolute limits; make sure head is never lower than the bottom of layer1\n",
    "    pf.add_parameters(f,\n",
    "                        par_type=\"constant\",\n",
    "                        geostruct=grid_gs,\n",
    "                        par_name_base=name+\"cn\",\n",
    "                        pargp=name+\"cn\",\n",
    "                        index_cols=[0,1,2],\n",
    "                        use_cols=[3],\n",
    "                        lower_bound=-2.0,upper_bound=2.0, \n",
    "                        par_style=\"a\", \n",
    "                        transform=\"none\",\n",
    "                        ult_lbound=32.5, ult_ubound=42) "
   ]
  },
  {
   "cell_type": "markdown",
   "metadata": {},
   "source": [
    "Easy peasy.\n",
    "\n",
    "Now, this will make some people uncomfortable, but how well do we really ever know historic water use flux rates in space and in time? hmmm, not really! And just a little uncertainty in historic water use can result in large changes in simulated water levels...So let's add parameters to represent that uncertainty in the model inputs.\n",
    "\n",
    "For wells it may not (or it may...) make sense to include spatial correlation. Here we will assume temporal correlation - its reasonable that pumping rates today will be similar to pumping rates yesterday. \n",
    "\n",
    "Pumping rates for different stress periods are in separate files. We will call `.add_parameters()` for each file. But we want to specify correlation between parameters in different files. As explained above for recharge, we do this with the parameter group name.\n",
    "\n",
    "OK, let's get started.\n"
   ]
  },
  {
   "cell_type": "markdown",
   "metadata": {},
   "source": [
    "As discussed above, including temporal correlation introduces an additional challenge. We use the same approach described for recharge parameters:\n",
    "\n",
    " - First, we will assign a `constant` multiplier parameter for each WEL stress-period file (so, a single multiplier for all well pumping rates for each stress period). We will specify temporal correlation for these `constant` multipliers.\n",
    "\n",
    " - Then, we will also have `grid` type multiplier parameters for each WEL stress period file (so, multipliers for individual well pumping rate during each stress period). These will not include (temporal) correlation. (We could in principle include spatial correlation here if we wanted to; but let's not)."
   ]
  },
  {
   "cell_type": "code",
   "execution_count": null,
   "metadata": {},
   "outputs": [],
   "source": [
    "files = [f for f in os.listdir(template_ws) if \"wel_stress_period_data\" in f and f.endswith(\".txt\")]\n",
    "sp = [int(f.split(\".\")[1].split('_')[-1]) for f in files]\n",
    "d = {s:f for s,f in zip(sp,files)}\n",
    "sp.sort()\n",
    "files = [d[s] for s in sp]\n",
    "\n",
    "for f in files:\n",
    "    # get the stress period number from the file name\n",
    "    kper = int(f.split('.')[1].split('_')[-1]) - 1  \n",
    "    \n",
    "    # add the constant parameters (with temporal correlation)\n",
    "    pf.add_parameters(filenames=f,\n",
    "                        index_cols=[0,1,2], #columns that specify cell location\n",
    "                        use_cols=[3],       #columns with parameter values\n",
    "                        par_type=\"constant\",    #each well will be adjustable\n",
    "                        par_name_base=\"welcst\",\n",
    "                        pargp=\"welcst\", \n",
    "                        upper_bound = 4, lower_bound=0.25,\n",
    "                        datetime=dts[kper], # this places the parameter value on the \"time axis\"\n",
    "                        geostruct=temporal_gs)\n",
    "    \n",
    "    # add the grid parameters; each individual well\n",
    "    pf.add_parameters(filenames=f,\n",
    "                        index_cols=[0,1,2], #columns that specify cell location \n",
    "                        use_cols=[3],       #columns with parameter values\n",
    "                        par_type=\"grid\",    #each well will be adjustable\n",
    "                        par_name_base=\"welgrd\",\n",
    "                        pargp=\"welgrd\", \n",
    "                        upper_bound = 4, lower_bound=0.25,\n",
    "                        datetime=dts[kper]) # this places the parameter value on the \"time axis\"\n",
    "                     "
   ]
  },
  {
   "cell_type": "markdown",
   "metadata": {},
   "source": [
    "And finally, our favorite (not!) boundary-condition: SFR.\n",
    "\n",
    "Let's parameterize conductance (time-invariant) and inflow (time-variant)."
   ]
  },
  {
   "cell_type": "code",
   "execution_count": null,
   "metadata": {},
   "outputs": [],
   "source": [
    "# SFR conductance\n",
    "tag = \"sfr_packagedata\"\n",
    "files = [f for f in os.listdir(template_ws) if tag in f.lower() and f.endswith(\".txt\")]\n",
    "assert len(files) == 1 # There can be only one! It is tradition. Jokes.\n",
    "print(files)\n",
    "\n",
    "f = files[0]\n",
    "# constant and grid scale multiplier conductance parameters\n",
    "name = \"sfrcond\"\n",
    "pf.add_parameters(f,\n",
    "                par_type=\"grid\",\n",
    "                geostruct=grid_gs,\n",
    "                par_name_base=name+\"gr\",\n",
    "                pargp=name+\"gr\",\n",
    "                index_cols=[0,2,3],\n",
    "                use_cols=[9],\n",
    "                lower_bound=0.1,upper_bound=10.0)\n",
    "pf.add_parameters(f,\n",
    "                par_type=\"constant\",\n",
    "                geostruct=grid_gs,\n",
    "                par_name_base=name+\"cn\",\n",
    "                pargp=name+\"cn\",\n",
    "                index_cols=[0,2,3],\n",
    "                use_cols=[9],\n",
    "                lower_bound=0.1,upper_bound=10.0,\n",
    "                ult_lbound=0.001, ult_ubound=100) #absolute limits"
   ]
  },
  {
   "cell_type": "code",
   "execution_count": null,
   "metadata": {},
   "outputs": [],
   "source": [
    "# SFR inflow\n",
    "files = [f for f in os.listdir(template_ws) if \"sfr_perioddata\" in f and f.endswith(\".txt\")]\n",
    "sp = [int(f.split(\".\")[1].split('_')[-1]) for f in files]\n",
    "d = {s:f for s,f in zip(sp,files)}\n",
    "sp.sort()\n",
    "files = [d[s] for s in sp]\n",
    "print(files)\n",
    "for f in files:\n",
    "    # get the stress period number from the file name\n",
    "    kper = int(f.split('.')[1].split('_')[-1]) - 1  \n",
    "    # add the parameters\n",
    "    pf.add_parameters(filenames=f,\n",
    "                        index_cols=[0], #reach number\n",
    "                        use_cols=[2],   #columns with parameter values\n",
    "                        par_type=\"grid\",    \n",
    "                        par_name_base=\"sfrgr\",\n",
    "                        pargp=\"sfrgr\", \n",
    "                        upper_bound = 10, lower_bound=0.1, #don't need ult_bounds because it is a single multiplier\n",
    "                        datetime=dts[kper], # this places the parameter value on the \"time axis\"\n",
    "                        geostruct=temporal_gs)"
   ]
  },
  {
   "cell_type": "code",
   "execution_count": null,
   "metadata": {},
   "outputs": [],
   "source": [
    "[f for f in os.listdir(template_ws) if f.endswith(\".tpl\")]"
   ]
  },
  {
   "cell_type": "markdown",
   "metadata": {},
   "source": [
    "Damn!  we just parameterized many recognized sources of model input uncertainty at several spatial and temporal scales.  And we expressed spatial and temporal correlation in those parameters.  One last set of parameters that we will need later for sequential data assimilation - initial conditions:"
   ]
  },
  {
   "cell_type": "code",
   "execution_count": null,
   "metadata": {},
   "outputs": [],
   "source": [
    "files = [f for f in os.listdir(template_ws) if \"ic_strt\" in f and f.endswith(\".txt\")]\n",
    "files"
   ]
  },
  {
   "cell_type": "code",
   "execution_count": null,
   "metadata": {},
   "outputs": [],
   "source": [
    "for f in files:\n",
    "    base = f.split(\".\")[1].replace(\"_\",\"\")\n",
    "    df = pf.add_parameters(f,par_type=\"grid\",par_style=\"d\",\n",
    "                      pargp=base,par_name_base=base,upper_bound=50,\n",
    "                     lower_bound=15,zone_array=ib,transform=\"none\")\n",
    "    print(df.shape)"
   ]
  },
  {
   "cell_type": "markdown",
   "metadata": {},
   "source": [
    "### The Forward Run Script\n",
    "\n",
    "OK! So, we almost have all the base building blocks for a PEST(++) dataset. We have some (1) observations and some (2) parameters. We are still missing (3) the \"forward run\" script. Recall that in the PEST world, the \"model\" is not just the numerical model (e.g. MODFLOW). Instead it is a composite of the numerical model (or models) and pre- and post-processing steps, encapsulated in a \"forward run\" script which can be called from the command line. This command line instruction is what PEST(++) sees as \"the model\". During execution, PEST(++) writes values to parameter files, runs \"the model\", and then reads values from the observation files.\n",
    "\n",
    "`PstFrom` automates the generation of such a script when constructing the PEST control file. The script is written to file named `forward_run.py`. It is written in Python (this is not a PEST(++) requirement, merely a convenience...we are working in Python after all...). \n",
    "\n",
    "How about we see that in action? Magic time! Let's create the PEST control file."
   ]
  },
  {
   "cell_type": "code",
   "execution_count": 34,
   "metadata": {},
   "outputs": [
    {
     "name": "stdout",
     "output_type": "stream",
     "text": [
      "noptmax:0, npar_adj:3650, nnz_obs:923\n"
     ]
    }
   ],
   "source": [
    "pst = pf.build_pst()"
   ]
  },
  {
   "cell_type": "markdown",
   "metadata": {},
   "source": [
    "Boom! Done. (Well almost.) Check the folder. You should see a new .pst file and the `forward_run.py` file. By default, the .pst file is named after the original model folder name. "
   ]
  },
  {
   "cell_type": "code",
   "execution_count": null,
   "metadata": {},
   "outputs": [],
   "source": [
    "[f for f in os.listdir(template_ws) if f.endswith(\".py\") or f.endswith(\".pst\") ]"
   ]
  },
  {
   "cell_type": "markdown",
   "metadata": {},
   "source": [
    "We will get to the `pst` object later on (see also the \"intro to pyemu\" tutorial notebook). For now, let's focus on the `forward_run.py` script. It is printed out below.\n",
    "\n",
    "This script does a bunch of things:\n",
    " - it loads necessary dependencies\n",
    " - it removes model output files to avoid the possibility of files from a previous model run being read by mistake;\n",
    " - it runs pre-processing steps (see `pyemu.helpers.apply_list_and_array_pars()`;\n",
    " - it executes system commands (usually running the simulator, i.e. MODFLOW). (*This is still missing. We will demonstrate next.*)\n",
    " - it executes post-processing steps; (*for now there aren't any*)\n",
    " - ...it washes the dishes (sorry, no it doesn't...this feature is still in development)."
   ]
  },
  {
   "cell_type": "code",
   "execution_count": null,
   "metadata": {},
   "outputs": [],
   "source": [
    "_ = [print(line.rstrip()) for line in open(os.path.join(template_ws,\"forward_run.py\"))]"
   ]
  },
  {
   "cell_type": "markdown",
   "metadata": {},
   "source": [
    "That's pretty amazing. But as we just saw, we still need to add commands to actually run the model.\n",
    "\n",
    "`PstFrom` allows you to pass a list of system commands which will be executed in sequence. It also has methods for including Python functions that run before or after the system commands. These make pre-/post-processing a piece of cake. In fact, we have already started to add to it. Remember all of the multiplier and additive parameters we setup? These all require pre-processing steps to convert the PEST-generated multipliers into model input values. `PstFrom` will automatically add these functions to the `forward_run.py` script. Nifty, hey?\n",
    "\n",
    "Next we will demonstrate how to specify the system commands and add Python functions as processing steps.\n",
    "\n",
    "#### Sys Commands\n",
    "\n",
    "Let's start by adding a command line instruction. These are stored as a list in `PstFrom.mod_sys_cmds`, which is currently empty. "
   ]
  },
  {
   "cell_type": "code",
   "execution_count": 35,
   "metadata": {},
   "outputs": [
    {
     "data": {
      "text/plain": [
       "[]"
      ]
     },
     "execution_count": 35,
     "metadata": {},
     "output_type": "execute_result"
    }
   ],
   "source": [
    "pf.mod_sys_cmds "
   ]
  },
  {
   "cell_type": "markdown",
   "metadata": {},
   "source": [
    "To run a MODFLOW6 model from the command line, you can simply execute `mf6` in the model folder. So, we can add this command by appending it to the list. (Do this only once! Every time you append 'mf6' results in an additional call to MODFLOW6, meaning the model would be run multiple times.)\n",
    "\n",
    "`PstFrom` will add a line to `forward_run.py` w"
   ]
  },
  {
   "cell_type": "code",
   "execution_count": null,
   "metadata": {},
   "outputs": [],
   "source": [
    "pf.mod_sys_cmds.append(\"mf6\") #do this only once\n",
    "pf.mod_sys_cmds"
   ]
  },
  {
   "cell_type": "markdown",
   "metadata": {},
   "source": [
    "We also need to run MODPATH7, so we need to add that to the list of system commands. In this case we also need to specify the modpath sim file:"
   ]
  },
  {
   "cell_type": "code",
   "execution_count": null,
   "metadata": {},
   "outputs": [],
   "source": [
    "pf.mod_sys_cmds.append(\"mp7 freyberg_mp.mpsim\") #do this only once\n",
    "pf.mod_sys_cmds"
   ]
  },
  {
   "cell_type": "markdown",
   "metadata": {},
   "source": [
    "OK, now let's re-build the Pst control file and check out the changes to the `forward_run.py` script.\n",
    "\n",
    "You should see that `pyemu.os_utils.run(r'mf6')` has been added after the pre-processing functions."
   ]
  },
  {
   "cell_type": "code",
   "execution_count": null,
   "metadata": {},
   "outputs": [],
   "source": [
    "pst = pf.build_pst()\n",
    "\n",
    "_ = [print(line.rstrip()) for line in open(os.path.join(template_ws,\"forward_run.py\"))]"
   ]
  },
  {
   "cell_type": "markdown",
   "metadata": {},
   "source": [
    "#### Extra pre- and post-processing functions\n",
    "\n",
    "You will also certainly need to include some additional processing steps.  These are supported through the `PstFrom.pre_py_cmds` and `PstFrom.post_py_cmds`, which are lists for pre and post model run python commands and `PstFrom.pre_sys_cmds` and `PstFrom.post_sys_cmds`, which are lists for pre and post model run system commands (these are wrapped in `pyemu.os_utils.run()`.  \n",
    "\n",
    "But what if your additional steps are actually an entire python function? Well, we got that too! `PstFrom.add_py_function()`. This method allows you to get functions from another (pre-prepared) python source file and add them to the `forward_run.py` script. We will demonstrate this to post-process model observations after each run."
   ]
  },
  {
   "cell_type": "markdown",
   "metadata": {},
   "source": [
    "Now let's see this py-sauce in action: we are going to add a little post-processing function to extract the final simulated water level for all model cells for the last stress period from the MF6 binary headsave file and save them to ASCII format so that PEST(++) can read them with instruction files.  And, while we are at it, let's also extract the global water budget info from the MF6 listing file and store it in dataframes - these are usually good numbers to watch!  We will need the simulated water level arrays later for sequential data assimilation (wouldn't it be nice if MF6 supported the writing of ASCII format head arrays?).  Anyway, this function is stored in the \"helpers.py\" script which you can find in the tutorial folder."
   ]
  },
  {
   "cell_type": "code",
   "execution_count": null,
   "metadata": {},
   "outputs": [],
   "source": [
    "pf.add_py_function(\"helpers.py\",\"extract_hds_arrays_and_list_dfs()\",is_pre_cmd=False)"
   ]
  },
  {
   "cell_type": "markdown",
   "metadata": {},
   "source": [
    "That last argument - `is_pre_cmd` tells `PstFrom` if the python function should be treated as a pre-processor or a post-processor. So we have added that post-processor, but we still need to setup pest observations for those ASCII head arrays.  Let's do that by first calling that function to operate once within the `template_ws` to generate the arrays and then we can add them with `add_observations()`:  "
   ]
  },
  {
   "cell_type": "code",
   "execution_count": null,
   "metadata": {},
   "outputs": [],
   "source": [
    "import helpers\n",
    "helpers.test_extract_hds_arrays(template_ws)"
   ]
  },
  {
   "cell_type": "code",
   "execution_count": null,
   "metadata": {},
   "outputs": [],
   "source": [
    "files = [f for f in os.listdir(template_ws) if f.startswith(\"hdslay\")]\n",
    "files"
   ]
  },
  {
   "cell_type": "code",
   "execution_count": null,
   "metadata": {},
   "outputs": [],
   "source": [
    "for f in files:\n",
    "    pf.add_observations(f,prefix=f.split(\".\")[0],obsgp=f.split(\".\")[0])"
   ]
  },
  {
   "cell_type": "code",
   "execution_count": null,
   "metadata": {},
   "outputs": [],
   "source": [
    "for f in [\"inc.csv\",\"cum.csv\"]:\n",
    "    df = pd.read_csv(os.path.join(template_ws,f),index_col=0)\n",
    "    pf.add_observations(f,index_cols=[\"totim\"],use_cols=list(df.columns.values),\n",
    "                        prefix=f.split('.')[0],obsgp=f.split(\".\")[0])"
   ]
  },
  {
   "cell_type": "markdown",
   "metadata": {},
   "source": [
    "Crushed it!"
   ]
  },
  {
   "cell_type": "markdown",
   "metadata": {},
   "source": [
    "#### Secondary Observations\n",
    "\n",
    "Often it is usefull to include \"secondary model outcomes\" as observations. These can be important components in a history-matching dataset to tease out specific aspects of system behaviour (e.g. head differences between aquifer layers to inform vertical permeabilities). Or they may be simple summaries of modelled outputs which are of interest for a prediction (e.g. minimum simulated head over a given period).\n",
    "\n",
    "If you inspect the tutorial folder you will find a file named `helpers.py`. This is a python source file which we have prepared for you. (Open it to see how it is organized.) This is not standard `pyemu` functionality, but we provide it here as an example of incorporating custom code for observation processing. The sky's the limit! It contains a function named `process_secondary_obs()`. This function reads the model output .csv files, processes them and writes a series of new observation .csv files. These new files contain the temporal-differences between head and SFR observations. The new .csv files are named `heads.tdiff.csv`and `sfr.tdiff.csv`, respectively.\n",
    "\n",
    "First, let's load the function here and run it so you can see what happens. (And to make sure that the observation files are in the template folder!) \n",
    "\n",
    "Run the next cell, then inspect the template folder. You should see several new csv files. These are the new secondary observations calculated by the post-processing function."
   ]
  },
  {
   "cell_type": "code",
   "execution_count": null,
   "metadata": {},
   "outputs": [],
   "source": [
    "# run the helper function\n",
    "helpers.process_secondary_obs(ws=template_ws)"
   ]
  },
  {
   "cell_type": "code",
   "execution_count": null,
   "metadata": {},
   "outputs": [],
   "source": [
    "[f for f in os.listdir(template_ws) if f.endswith(\".csv\")]"
   ]
  },
  {
   "cell_type": "markdown",
   "metadata": {},
   "source": [
    "OK, so now let's add this function to the `forward_run.py` script."
   ]
  },
  {
   "cell_type": "code",
   "execution_count": null,
   "metadata": {},
   "outputs": [],
   "source": [
    "pf.add_py_function(\"helpers.py\", # the file which contains the function\n",
    "                    \"process_secondary_obs(ws='.')\", #the function, making sure to specify any arguments it may requrie\n",
    "                    is_pre_cmd=False) # whether it runs before the model system command, or after. In this case, after."
   ]
  },
  {
   "cell_type": "markdown",
   "metadata": {},
   "source": [
    "And, boom! Bob's your uncle. As easy as that.\n",
    "\n",
    "Now, of course we want to add these observations to `PstFrom` as well:"
   ]
  },
  {
   "cell_type": "code",
   "execution_count": null,
   "metadata": {},
   "outputs": [],
   "source": [
    "\n",
    "df = pd.read_csv(os.path.join(template_ws, \"sfr.tdiff.csv\"), index_col=0)\n",
    "_ = pf.add_observations(\"sfr.tdiff.csv\", # the model output file to read\n",
    "                            insfile=\"sfr.tdiff.csv.ins\", #optional, the instruction file name\n",
    "                            index_cols=\"time\", #column header to use as index; can also use column number (zero-based) instead of the header name\n",
    "                            use_cols=list(df.columns.values), #names of columns that include observation values; can also use column number (zero-based) instead of the header name\n",
    "                            prefix=\"sfrtd\") #prefix to all observation \n",
    "                            \n",
    "df = pd.read_csv(os.path.join(template_ws, \"heads.tdiff.csv\"), index_col=0)\n",
    "_ = pf.add_observations(\"heads.tdiff.csv\", # the model output file to read\n",
    "                            insfile=\"heads.tdiff.csv.ins\", #optional, the instruction file name\n",
    "                            index_cols=\"time\", #column header to use as index; can also use column number (zero-based) instead of the header name\n",
    "                            use_cols=list(df.columns.values), #names of columns that include observation values; can also use column number (zero-based) instead of the header name\n",
    "                            prefix=\"hdstd\") #prefix to all observation names"
   ]
  },
  {
   "cell_type": "markdown",
   "metadata": {},
   "source": [
    "Remember to re-build the Pst control file:"
   ]
  },
  {
   "cell_type": "code",
   "execution_count": null,
   "metadata": {},
   "outputs": [],
   "source": [
    "pst = pf.build_pst()"
   ]
  },
  {
   "cell_type": "code",
   "execution_count": null,
   "metadata": {},
   "outputs": [],
   "source": [
    "_ = [print(line.rstrip()) for line in open(os.path.join(template_ws,\"forward_run.py\"))]"
   ]
  },
  {
   "cell_type": "markdown",
   "metadata": {},
   "source": [
    "Now we see that `extract_hds_array_and_list_dfs()` has been added to the forward run script and it is being called after MF6 runs. "
   ]
  },
  {
   "cell_type": "code",
   "execution_count": null,
   "metadata": {},
   "outputs": [],
   "source": [
    "obs = pst.observation_data\n",
    "obs"
   ]
  },
  {
   "cell_type": "markdown",
   "metadata": {},
   "source": [
    "### After Building the Control File\n",
    "\n",
    "At this point, we can do some additional modifications that would typically be done that are problem specific.  Here we can tweak the setup, specifying things such as observation weights, parameter bounds, transforms, control data, etc.\n",
    "\n",
    "Note that any modifications made after calling `PstFrom.build_pst()` will only exist in memory - you need to call `pf.pst.write()` to record these changes to the control file on disk.  Also note that if you call `PstFrom.build_pst()` after making some changes, these changes will be lost.  \n",
    "\n",
    "For the current case, the main thing we haven't addressed are the observations from custom *.ins files,  observation weights, parameter group INCTYP's and forecasts.\n",
    "\n",
    "We will do so now."
   ]
  },
  {
   "cell_type": "markdown",
   "metadata": {},
   "source": [
    "#### Add Observations from INS files\n",
    "\n",
    "Recall that we wish to include observations of particle end time and status. As mentioned earlier, MP7 output files are not ina nicely organized tabular format - so we need to construct a custom instruction file. We will do this now:"
   ]
  },
  {
   "cell_type": "code",
   "execution_count": null,
   "metadata": {},
   "outputs": [],
   "source": [
    "# write a really simple instruction file to read the MODPATH end point file\n",
    "out_file = \"freyberg_mp.mpend\"\n",
    "ins_file = out_file + \".ins\"\n",
    "with open(os.path.join(template_ws, ins_file),'w') as f:\n",
    "    f.write(\"pif ~\\n\")\n",
    "    f.write(\"l7 w w w w !part_status! w w !part_time!\\n\")"
   ]
  },
  {
   "cell_type": "markdown",
   "metadata": {},
   "source": [
    "Now add these observations to the `Pst`:"
   ]
  },
  {
   "cell_type": "code",
   "execution_count": null,
   "metadata": {},
   "outputs": [],
   "source": [
    "pst.add_observations(ins_file=os.path.join(template_ws, ins_file),\n",
    "                    out_file=os.path.join(template_ws, out_file),\n",
    "                            pst_path='.')\n",
    "\n",
    "# and then check what changed                            \n",
    "obs = pst.observation_data\n",
    "obs.loc[obs.obsnme=='part_status', 'obgnme'] = 'part'\n",
    "obs.loc[obs.obsnme=='part_time', 'obgnme'] = 'part'\n",
    "\n",
    "obs.iloc[-2:]"
   ]
  },
  {
   "cell_type": "markdown",
   "metadata": {},
   "source": [
    "#### Parameters with Zero as Intial Value\n",
    "\n",
    "Recall that we assigned additive parameters to the GHB heads. Our initial parameter values for these parameter types were set as 0 (zero). This creates a wee bit of trouble when calculating derivatives - this is only an issue for algorithms that use finite-difference derivatives. There are a couple of ways we could get around it. One way is to add an \"offset\" to the parameter initial values and to the parameter bounds. Another is to use \"absolute\" increment types (INCTYP). See the PEST manual or PEST++ user guides for descriptions of increment types. \n",
    "\n",
    "We will apply both here. \n",
    "\n",
    "We will assign INCTYP as 'absolute'. We will leave DERINC as 0.01 (the default). It is a reasonable value in this case."
   ]
  },
  {
   "cell_type": "code",
   "execution_count": null,
   "metadata": {},
   "outputs": [],
   "source": [
    "head_pargps = [i for i in pst.adj_par_groups if 'head' in i]\n",
    "head_pargps"
   ]
  },
  {
   "cell_type": "code",
   "execution_count": null,
   "metadata": {},
   "outputs": [],
   "source": [
    "pst.parameter_groups.loc[head_pargps, 'inctyp'] = 'absolute'"
   ]
  },
  {
   "cell_type": "markdown",
   "metadata": {},
   "source": [
    "Now add the \"offset\" to parameter data entries:"
   ]
  },
  {
   "cell_type": "code",
   "execution_count": null,
   "metadata": {},
   "outputs": [],
   "source": [
    "par = pst.parameter_data\n",
    "par_names = par.loc[par.parval1==0].parnme\n",
    "\n",
    "par.loc[par_names].head()"
   ]
  },
  {
   "cell_type": "code",
   "execution_count": null,
   "metadata": {},
   "outputs": [],
   "source": [
    "offset = -10\n",
    "par.loc[par_names, 'offset'] = offset\n",
    "par.loc[par_names, ['parval1', 'parlbnd', 'parubnd']] -= offset\n",
    "\n",
    "par.loc[par_names].head()"
   ]
  },
  {
   "cell_type": "markdown",
   "metadata": {},
   "source": [
    "#### Forecasts\n",
    "\n",
    "For most models there is a forecast/prediction that someone needs. Rather than waiting until the end of the project, the forecast should be entered into your thinking and workflow __right at the beginning__.  Here we do this explicitly by monitoring the forecasts as \"observations\" in the control file.  This way, for every PEST(++) analysis we do, we can watch what is happening to the forecasts - #winning\n",
    "\n",
    "The optional PEST++ `++forecasts` control variable allows us to provide the names of one or more observations featured in the \"observation data\" section of the PEST control file; these are treated as predictions in FOSM predictive uncertainty analysis by PESTPP-GLM. It is also a convenient way to keep track of \"forecast\" observations (makes post-processing a wee bit easier later on).\n",
    "\n",
    "Recall that, for our synthetic case we are interested in forecasting:\n",
    "\n",
    " - groundwater level in the upper layer at row 9 and column 1 (site named \"trgw-0-9-1\") in stress period 22 (time=640);\n",
    " - the \"tailwater\" surface-water/groundwater exchange during stress period 13 (time=367); and\n",
    " - the \"headwater\" surface-water/groundwater exchange at stress period 22 (time=640).\n",
    " - the particle travel time.\n"
   ]
  },
  {
   "cell_type": "code",
   "execution_count": null,
   "metadata": {},
   "outputs": [],
   "source": [
    "forecasts =[\n",
    "            'oname:sfr_otype:lst_usecol:tailwater_time:4383.5',\n",
    "            'oname:sfr_otype:lst_usecol:headwater_time:4383.5',\n",
    "            'oname:hds_otype:lst_usecol:trgw-0-9-1_time:4383.5',\n",
    "            'part_time'\n",
    "            ]\n",
    "\n",
    "forecasts"
   ]
  },
  {
   "cell_type": "code",
   "execution_count": null,
   "metadata": {},
   "outputs": [],
   "source": [
    "fobs = obs.loc[forecasts,:]\n",
    "fobs"
   ]
  },
  {
   "cell_type": "markdown",
   "metadata": {},
   "source": [
    "We will just set this optional pest++ argument because it will trigger certain automatic behavior later in PESTPP-GLM"
   ]
  },
  {
   "cell_type": "code",
   "execution_count": null,
   "metadata": {},
   "outputs": [],
   "source": [
    "pst.pestpp_options['forecasts'] = forecasts"
   ]
  },
  {
   "cell_type": "markdown",
   "metadata": {},
   "source": [
    "### Re-write the Control File!"
   ]
  },
  {
   "cell_type": "markdown",
   "metadata": {},
   "source": [
    "Make sure to re-**write** the PEST control file. But beware, if you re-**build** the `Pst`, all these changes will be lost."
   ]
  },
  {
   "cell_type": "code",
   "execution_count": null,
   "metadata": {},
   "outputs": [],
   "source": [
    "pst.write(os.path.join(template_ws, 'freyberg_mf6.pst'),version=2)"
   ]
  },
  {
   "cell_type": "markdown",
   "metadata": {},
   "source": [
    "So that was pretty epic. We now have a (very) high-dimensional PEST interface that includes secondary observations, as well as forecasts, ready to roll. \n",
    "\n",
    "If you inspect the folder, you will see PEST control file and all the necessary instruction and template files. Because we have >10k parameters, version 2 of the PEST control file was written by default. \n",
    "\n",
    "Shall we check that it works? Let's run PEST once (i.e. with NOPTMAX=0). Now, by default, noptmax is set to zero. But just to check:"
   ]
  },
  {
   "cell_type": "code",
   "execution_count": null,
   "metadata": {},
   "outputs": [],
   "source": [
    "pst.control_data.noptmax"
   ]
  },
  {
   "cell_type": "markdown",
   "metadata": {},
   "source": [
    "OK, so when we run PEST it will call the model once and then stop. If the next cell is successful, then everything is working. Check the folder, you should see PEST output files. (We will go into these and how to process PEST outcomes in subsequent tutorials)."
   ]
  },
  {
   "cell_type": "code",
   "execution_count": null,
   "metadata": {},
   "outputs": [],
   "source": [
    "pyemu.os_utils.run('pestpp-glm freyberg_mf6.pst', cwd=template_ws)"
   ]
  },
  {
   "cell_type": "markdown",
   "metadata": {},
   "source": [
    "Recall that we assigned observation values generated from the \"base model run\"? If we setup everything correctly, this means that PEST should have obtained residuals very close to zero. As mentioned, this is a good way to check for problems early on.\n",
    "\n",
    "Let's check the Phi recorded in the *.iobj file (could also check the *.rec or *.rei files)."
   ]
  },
  {
   "cell_type": "code",
   "execution_count": null,
   "metadata": {},
   "outputs": [],
   "source": [
    "# read the file\n",
    "iobj = pd.read_csv(os.path.join(template_ws, 'freyberg_mf6.iobj'))\n",
    "\n",
    "# check value in phi column\n",
    "iobj.total_phi"
   ]
  },
  {
   "cell_type": "markdown",
   "metadata": {},
   "source": [
    " Sweet! Zero. All is well."
   ]
  },
  {
   "cell_type": "markdown",
   "metadata": {},
   "source": [
    "### Prior Parameter Covariance Matrix\n",
    "\n",
    "One the major reasons `PstFrom` was built is to help with building the Prior - both covariance matrix and ensemble - with geostatistical correlation.  Remember all that business above related to geostatistical structures and correlations?  This is where it pays off.\n",
    "\n",
    "Let's see how this works.  For cases with less than about 30,000 parameters, we can actually generate and visualize the prior parameter covariance matrix.  If you have more parameters, this matrix may not fit in memory.  But, not to worry, `PstFrom` has some trickery to help generate the geostatistical prior ensemble even in cases where the number of parameters is greater than 30,000. \n"
   ]
  },
  {
   "cell_type": "code",
   "execution_count": null,
   "metadata": {},
   "outputs": [],
   "source": [
    "# build the prior covariance matrix and store it as a compresed bianry file (otherwise it can get huge!)\n",
    "# depending on your machine, this may take a while...\n",
    "if pf.pst.npar < 35000:  #if you have more than about 35K pars, the cov matrix becomes hard to handle\n",
    "    cov = pf.build_prior(fmt='coo', filename=os.path.join(template_ws,\"prior_cov.jcb\"))\n",
    "    # and take a peek at a slice of the matrix\n",
    "    try: \n",
    "        x = cov.x.copy()\n",
    "        x[x==0] = np.NaN\n",
    "        plt.imshow(x[:1000,:1000])\n",
    "    except:\n",
    "        pass"
   ]
  },
  {
   "cell_type": "markdown",
   "metadata": {},
   "source": [
    "snap!  That big block must be a grid-scale parameter group..."
   ]
  },
  {
   "cell_type": "code",
   "execution_count": null,
   "metadata": {},
   "outputs": [],
   "source": [
    "cov.row_names[:10]"
   ]
  },
  {
   "cell_type": "markdown",
   "metadata": {},
   "source": [
    "And now generate a prior parameter ensemble. This step is relevant for using pestpp-ies in subsequent tutorials. Note: you do not have to call `build_prior()` before calling `draw()`!"
   ]
  },
  {
   "cell_type": "code",
   "execution_count": null,
   "metadata": {},
   "outputs": [],
   "source": [
    "pe = pf.draw(num_reals=1000, use_specsim=True) # draw parameters from the prior distribution\n",
    "pe.enforce() # enforces parameter bounds\n",
    "pe.to_binary(os.path.join(template_ws,\"prior_pe.jcb\")) #writes the paramter ensemble to binary file\n",
    "assert pe.shape[1] == pst.npar"
   ]
  },
  {
   "cell_type": "markdown",
   "metadata": {},
   "source": [
    "Let's now test-run one of these geostatistical realizations (always a good idea!).  We do this by replacing the `parval1` values in the control with a row from `pe`:"
   ]
  },
  {
   "cell_type": "code",
   "execution_count": null,
   "metadata": {},
   "outputs": [],
   "source": [
    "pst.parameter_data.loc[:,\"parval1\"] = pe.loc[pe.index[0],pst.par_names].values\n",
    "pst.parameter_data.parval1.values"
   ]
  },
  {
   "cell_type": "code",
   "execution_count": null,
   "metadata": {},
   "outputs": [],
   "source": [
    "pst.control_data.noptmax = 0\n",
    "pst.write(os.path.join(template_ws,\"test.pst\"),version=2)\n",
    "pyemu.os_utils.run(\"pestpp-glm test.pst\",cwd=template_ws)"
   ]
  },
  {
   "cell_type": "markdown",
   "metadata": {},
   "source": [
    "If all went well, that's it! The PEST-interface is setup, tested and we have our prior prepared. We should be good to go!"
   ]
  },
  {
   "cell_type": "markdown",
   "metadata": {},
   "source": [
    "### Bonus: Understanding Multiplier-Parameters\n",
    "\n",
    "Now the multiplier files in the `template_ws/mult` folder and the MF6 input files in the `template_ws` folder contain the values corresponding to this realization, so we can visualize the multiplier parameter process:"
   ]
  },
  {
   "cell_type": "code",
   "execution_count": null,
   "metadata": {},
   "outputs": [],
   "source": [
    "df = pd.read_csv(os.path.join(template_ws,\"mult2model_info.csv\"))\n",
    "kh1_df = df.loc[df.model_file.str.contains(\"npf_k_layer1\"),:]\n",
    "kh1_df"
   ]
  },
  {
   "cell_type": "code",
   "execution_count": null,
   "metadata": {},
   "outputs": [],
   "source": [
    "org_arr = np.loadtxt(os.path.join(template_ws,kh1_df.org_file.iloc[0]))\n",
    "inp_arr = np.loadtxt(os.path.join(template_ws,kh1_df.model_file.iloc[0]))\n",
    "mlt_arrs = [np.loadtxt(os.path.join(template_ws,afile)) for afile in kh1_df.mlt_file]\n",
    "arrs = [org_arr]\n",
    "arrs.extend(mlt_arrs)\n",
    "arrs.append(inp_arr)\n",
    "names = [\"org\"]\n",
    "names.extend([mf.split('.')[0].split('_')[-1] for mf in kh1_df.mlt_file])\n",
    "names.append(\"MF6 input\")\n",
    "fig,axes = plt.subplots(1,kh1_df.shape[0]+2,figsize=(5*kh1_df.shape[0]+2,5))\n",
    "for i,ax in enumerate(axes.flatten()):\n",
    "    arr = np.log10(arrs[i])\n",
    "    arr[ib==0] = np.NaN\n",
    "    cb = ax.imshow(arr)\n",
    "    plt.colorbar(cb,ax=ax)\n",
    "    ax.set_title(names[i],loc=\"left\")\n",
    "plt.tight_layout()    \n",
    "    "
   ]
  },
  {
   "cell_type": "markdown",
   "metadata": {},
   "source": [
    "So now we can see the difference the pilot point geostructure makes compared to the grid-scale geostructure.  The pilot point array has a much stronger spatial correlation (over a larger distance) than the grid-scale..."
   ]
  },
  {
   "cell_type": "markdown",
   "metadata": {},
   "source": [
    "# Finally, what's up with all these new files and folders? We can trace through them to see how multipliers are applied"
   ]
  },
  {
   "cell_type": "code",
   "execution_count": null,
   "metadata": {},
   "outputs": [],
   "source": [
    "from IPython.display import Image, display\n",
    "display(Image(url='./pest_flow2.gif'))"
   ]
  },
  {
   "cell_type": "code",
   "execution_count": null,
   "metadata": {},
   "outputs": [],
   "source": []
  }
 ],
 "metadata": {
  "kernelspec": {
   "display_name": "Python 3",
   "language": "python",
   "name": "python3"
  },
  "language_info": {
   "codemirror_mode": {
    "name": "ipython",
    "version": 3
   },
   "file_extension": ".py",
   "mimetype": "text/x-python",
   "name": "python",
   "nbconvert_exporter": "python",
   "pygments_lexer": "ipython3",
   "version": "3.11.6"
  }
 },
 "nbformat": 4,
 "nbformat_minor": 4
}
